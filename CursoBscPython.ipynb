{
  "nbformat": 4,
  "nbformat_minor": 0,
  "metadata": {
    "colab": {
      "provenance": []
    },
    "kernelspec": {
      "name": "python3",
      "display_name": "Python 3"
    },
    "language_info": {
      "name": "python"
    }
  },
  "cells": [
    {
      "cell_type": "markdown",
      "source": [
        "***PASSO A PASSO DE SOLUÇÃO DO DESAFIO***\n"
      ],
      "metadata": {
        "id": "KhINuNXjaXha"
      }
    },
    {
      "cell_type": "code",
      "source": [
        "# Lógica de programação\n",
        "\n",
        "# Passo 0 - Entender o desafio que você quer resolver\n",
        "\n",
        "# Passo 1 - Percorrer todos os arquivos da pasta base de dadps ( Pasta vendas)\n",
        "import os\n",
        "\n",
        "lista_arquivo = os.listdir(\"/content/drive/MyDrive/Curso Básico de Python/Vendas\")\n",
        "display(lista_arquivo)\n",
        "\n",
        "\n",
        "\n",
        "# Passo 2 - Importar as bases de dados de vendas\n",
        "\n",
        "# Passo 3 - Tratar / Compilar as bases de dados\n",
        "\n",
        "# Passo 4 - Calcular o produto mais vendidos (em quantidade)\n",
        "\n",
        "# Passo 5 - Calcular o produto que mais faturou (em faturamento)\n",
        "\n",
        "# Passo 6 - Calcular a loja/cidade que mais vendeu (em faturamento) - criar um gráfico/dashboard"
      ],
      "metadata": {
        "colab": {
          "base_uri": "https://localhost:8080/",
          "height": 329
        },
        "id": "kikJ0vFthiEW",
        "outputId": "4683405a-ed4e-476b-88f0-c5d1cec831a2"
      },
      "execution_count": 2,
      "outputs": [
        {
          "output_type": "display_data",
          "data": {
            "text/plain": [
              "['Vendas - São Paulo.csv',\n",
              " 'Vendas - Rio de Janeiro.csv',\n",
              " 'Vendas - Porto Alegre.csv',\n",
              " 'Vendas - Recife.csv',\n",
              " 'Vendas - Salvador.csv',\n",
              " 'Vendas - Goiás.csv',\n",
              " 'Vendas - Curitiba.csv',\n",
              " 'Devolucoes - Salvador.csv',\n",
              " 'Devolucoes - São Paulo.csv',\n",
              " 'Devolucoes - Rio de Janeiro.csv',\n",
              " 'Vendas - Fortaleza.csv',\n",
              " 'Vendas - Belo Horizonte.csv',\n",
              " 'Devolucoes - Belo Horizonte.csv',\n",
              " 'Devolucoes - Fortaleza.csv',\n",
              " 'Devolucoes - Curitiba.csv',\n",
              " 'Devolucoes - Goiás.csv',\n",
              " 'Devolucoes - Porto Alegre.csv',\n",
              " 'Devolucoes - Recife.csv']"
            ]
          },
          "metadata": {}
        }
      ]
    }
  ]
}